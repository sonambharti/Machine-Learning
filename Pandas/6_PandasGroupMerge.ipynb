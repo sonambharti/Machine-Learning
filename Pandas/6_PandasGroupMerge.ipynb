{
 "cells": [
  {
   "cell_type": "code",
   "execution_count": 2,
   "metadata": {},
   "outputs": [],
   "source": [
    "import pandas as pd"
   ]
  },
  {
   "cell_type": "markdown",
   "metadata": {},
   "source": [
    "# GroupBy() Function"
   ]
  },
  {
   "cell_type": "code",
   "execution_count": 3,
   "metadata": {},
   "outputs": [
    {
     "data": {
      "text/html": [
       "<div>\n",
       "<style scoped>\n",
       "    .dataframe tbody tr th:only-of-type {\n",
       "        vertical-align: middle;\n",
       "    }\n",
       "\n",
       "    .dataframe tbody tr th {\n",
       "        vertical-align: top;\n",
       "    }\n",
       "\n",
       "    .dataframe thead th {\n",
       "        text-align: right;\n",
       "    }\n",
       "</style>\n",
       "<table border=\"1\" class=\"dataframe\">\n",
       "  <thead>\n",
       "    <tr style=\"text-align: right;\">\n",
       "      <th></th>\n",
       "      <th>Roll No.</th>\n",
       "      <th>Section</th>\n",
       "      <th>Branch</th>\n",
       "      <th>Physics</th>\n",
       "      <th>Chemistry</th>\n",
       "      <th>Maths</th>\n",
       "      <th>Computer</th>\n",
       "      <th>DOB</th>\n",
       "    </tr>\n",
       "  </thead>\n",
       "  <tbody>\n",
       "    <tr>\n",
       "      <th>0</th>\n",
       "      <td>1</td>\n",
       "      <td>A</td>\n",
       "      <td>CS</td>\n",
       "      <td>56.0</td>\n",
       "      <td>57.0</td>\n",
       "      <td>58.0</td>\n",
       "      <td>59.0</td>\n",
       "      <td>01-01-2001</td>\n",
       "    </tr>\n",
       "    <tr>\n",
       "      <th>1</th>\n",
       "      <td>2</td>\n",
       "      <td>A</td>\n",
       "      <td>ECE</td>\n",
       "      <td>23.0</td>\n",
       "      <td>24.0</td>\n",
       "      <td>25.0</td>\n",
       "      <td>26.0</td>\n",
       "      <td>02-01-2001</td>\n",
       "    </tr>\n",
       "    <tr>\n",
       "      <th>2</th>\n",
       "      <td>3</td>\n",
       "      <td>B</td>\n",
       "      <td>MECH</td>\n",
       "      <td>89.0</td>\n",
       "      <td>25.0</td>\n",
       "      <td>26.0</td>\n",
       "      <td>27.0</td>\n",
       "      <td>03-01-2001</td>\n",
       "    </tr>\n",
       "    <tr>\n",
       "      <th>3</th>\n",
       "      <td>4</td>\n",
       "      <td>C</td>\n",
       "      <td>MECH</td>\n",
       "      <td>45.0</td>\n",
       "      <td>26.0</td>\n",
       "      <td>27.0</td>\n",
       "      <td>28.0</td>\n",
       "      <td>04-01-2001</td>\n",
       "    </tr>\n",
       "    <tr>\n",
       "      <th>4</th>\n",
       "      <td>5</td>\n",
       "      <td>A</td>\n",
       "      <td>CS</td>\n",
       "      <td>23.0</td>\n",
       "      <td>27.0</td>\n",
       "      <td>28.0</td>\n",
       "      <td>29.0</td>\n",
       "      <td>05-01-2001</td>\n",
       "    </tr>\n",
       "  </tbody>\n",
       "</table>\n",
       "</div>"
      ],
      "text/plain": [
       "   Roll No. Section Branch  Physics  Chemistry  Maths  Computer         DOB\n",
       "0         1       A     CS     56.0       57.0   58.0      59.0  01-01-2001\n",
       "1         2       A    ECE     23.0       24.0   25.0      26.0  02-01-2001\n",
       "2         3       B   MECH     89.0       25.0   26.0      27.0  03-01-2001\n",
       "3         4       C   MECH     45.0       26.0   27.0      28.0  04-01-2001\n",
       "4         5       A     CS     23.0       27.0   28.0      29.0  05-01-2001"
      ]
     },
     "execution_count": 3,
     "metadata": {},
     "output_type": "execute_result"
    }
   ],
   "source": [
    "df_sample2 = pd.read_csv('Dataset/sample2.csv')\n",
    "df_sample2.head()"
   ]
  },
  {
   "cell_type": "code",
   "execution_count": 4,
   "metadata": {},
   "outputs": [
    {
     "data": {
      "text/plain": [
       "<pandas.core.groupby.generic.DataFrameGroupBy object at 0x000001BC379894D0>"
      ]
     },
     "execution_count": 4,
     "metadata": {},
     "output_type": "execute_result"
    }
   ],
   "source": [
    "# Grouping the dataframe according to the given column\n",
    "\n",
    "branch_group = df_sample2.groupby(by='Branch')\n",
    "branch_group"
   ]
  },
  {
   "cell_type": "code",
   "execution_count": 5,
   "metadata": {},
   "outputs": [
    {
     "data": {
      "text/plain": [
       "{'CS': [0, 4, 6, 9, 11, 12, 13, 26, 27, 28, 29], 'ECE': [1, 5, 8, 10, 14, 18, 22, 25], 'MECH': [2, 3, 16, 17, 19, 20, 21, 23, 24]}"
      ]
     },
     "execution_count": 5,
     "metadata": {},
     "output_type": "execute_result"
    }
   ],
   "source": [
    "branch_group.groups"
   ]
  },
  {
   "cell_type": "code",
   "execution_count": 6,
   "metadata": {},
   "outputs": [
    {
     "data": {
      "text/plain": [
       "{('CS', 'A'): [0, 4, 9, 12, 13, 28, 29], ('CS', 'B'): [6, 26], ('CS', 'C'): [11, 27], ('ECE', 'A'): [1, 5, 8, 25], ('ECE', 'B'): [10, 14, 18, 22], ('MECH', 'A'): [16, 17, 20, 21, 24], ('MECH', 'B'): [2], ('MECH', 'C'): [3, 19, 23], (nan, 'C'): [7, 15]}"
      ]
     },
     "execution_count": 6,
     "metadata": {},
     "output_type": "execute_result"
    }
   ],
   "source": [
    "branch_group = df_sample2.groupby(by=['Branch', 'Section'])\n",
    "branch_group.groups"
   ]
  },
  {
   "cell_type": "code",
   "execution_count": 7,
   "metadata": {},
   "outputs": [
    {
     "name": "stdout",
     "output_type": "stream",
     "text": [
      "('CS', 'A')\n",
      "    Roll No. Section Branch  Physics  Chemistry  Maths  Computer         DOB\n",
      "0          1       A     CS     56.0       57.0   58.0      59.0  01-01-2001\n",
      "4          5       A     CS     23.0       27.0   28.0      29.0  05-01-2001\n",
      "9         10       A     CS     45.0       16.0   17.0      18.0  10-01-2001\n",
      "12        13       A     CS     22.0       23.0   24.0      25.0  13-01-2001\n",
      "13        14       A     CS     90.0        NaN    NaN      42.0  14-01-2001\n",
      "28        29       A     CS     57.0       36.0   36.0      66.0  29-01-2001\n",
      "29        30       A     CS     58.0       37.0   37.0      43.0  30-01-2001\n",
      "('CS', 'B')\n",
      "    Roll No. Section Branch  Physics  Chemistry  Maths  Computer         DOB\n",
      "6          7       B     CS     12.0       13.0   14.0      15.0  07-01-2001\n",
      "26        27       B     CS     55.0       34.0   34.0      55.0  27-01-2001\n",
      "('CS', 'C')\n",
      "    Roll No. Section Branch  Physics  Chemistry  Maths  Computer         DOB\n",
      "11        12       C     CS     88.0        NaN   19.0      20.0  12-01-2001\n",
      "27        28       C     CS     56.0       35.0   35.0       NaN  28-01-2001\n",
      "('ECE', 'A')\n",
      "    Roll No. Section Branch  Physics  Chemistry  Maths  Computer         DOB\n",
      "1          2       A    ECE     23.0       24.0   25.0      26.0  02-01-2001\n",
      "5          6       A    ECE     90.0        NaN   29.0      30.0  06-01-2001\n",
      "8          9       A    ECE      NaN       15.0   16.0      17.0  09-01-2001\n",
      "25        26       A    ECE     54.0       33.0   33.0      54.0  26-01-2001\n",
      "('ECE', 'B')\n",
      "    Roll No. Section Branch  Physics  Chemistry  Maths  Computer         DOB\n",
      "10        11       B    ECE      NaN       17.0   18.0      19.0  11-01-2001\n",
      "14        15       B    ECE      NaN       43.0   43.0      43.0  15-01-2001\n",
      "18        19       B    ECE     47.0       47.0   47.0      47.0  19-01-2001\n",
      "22        23       B    ECE     51.0       51.0   51.0      51.0  23-01-2001\n",
      "('MECH', 'A')\n",
      "    Roll No. Section Branch  Physics  Chemistry  Maths  Computer         DOB\n",
      "16        17       A   MECH     45.0       45.0   45.0      45.0  17-01-2001\n",
      "17        18       A   MECH     46.0       46.0   46.0      46.0  18-01-2001\n",
      "20        21       A   MECH     49.0       49.0   49.0      49.0  21-01-2001\n",
      "21        22       A   MECH     50.0       50.0   50.0      50.0  22-01-2001\n",
      "24        25       A   MECH     53.0        NaN    NaN      53.0  25-01-2001\n",
      "('MECH', 'B')\n",
      "   Roll No. Section Branch  Physics  Chemistry  Maths  Computer         DOB\n",
      "2         3       B   MECH     89.0       25.0   26.0      27.0  03-01-2001\n",
      "('MECH', 'C')\n",
      "    Roll No. Section Branch  Physics  Chemistry  Maths  Computer         DOB\n",
      "3          4       C   MECH     45.0       26.0   27.0      28.0  04-01-2001\n",
      "19        20       C   MECH     48.0       48.0   48.0      48.0  20-01-2001\n",
      "23        24       C   MECH     52.0       52.0   52.0      52.0  24-01-2001\n"
     ]
    }
   ],
   "source": [
    "for group, data_frame in branch_group:\n",
    "    print(group)\n",
    "    print(data_frame)"
   ]
  },
  {
   "cell_type": "markdown",
   "metadata": {},
   "source": [
    "## Merge() Funuction\n"
   ]
  },
  {
   "cell_type": "code",
   "execution_count": 9,
   "metadata": {},
   "outputs": [
    {
     "data": {
      "text/html": [
       "<div>\n",
       "<style scoped>\n",
       "    .dataframe tbody tr th:only-of-type {\n",
       "        vertical-align: middle;\n",
       "    }\n",
       "\n",
       "    .dataframe tbody tr th {\n",
       "        vertical-align: top;\n",
       "    }\n",
       "\n",
       "    .dataframe thead th {\n",
       "        text-align: right;\n",
       "    }\n",
       "</style>\n",
       "<table border=\"1\" class=\"dataframe\">\n",
       "  <thead>\n",
       "    <tr style=\"text-align: right;\">\n",
       "      <th></th>\n",
       "      <th>Roll No.</th>\n",
       "      <th>Physics</th>\n",
       "    </tr>\n",
       "  </thead>\n",
       "  <tbody>\n",
       "    <tr>\n",
       "      <th>0</th>\n",
       "      <td>1</td>\n",
       "      <td>34</td>\n",
       "    </tr>\n",
       "    <tr>\n",
       "      <th>1</th>\n",
       "      <td>2</td>\n",
       "      <td>45</td>\n",
       "    </tr>\n",
       "    <tr>\n",
       "      <th>2</th>\n",
       "      <td>3</td>\n",
       "      <td>56</td>\n",
       "    </tr>\n",
       "    <tr>\n",
       "      <th>3</th>\n",
       "      <td>4</td>\n",
       "      <td>76</td>\n",
       "    </tr>\n",
       "    <tr>\n",
       "      <th>4</th>\n",
       "      <td>5</td>\n",
       "      <td>12</td>\n",
       "    </tr>\n",
       "  </tbody>\n",
       "</table>\n",
       "</div>"
      ],
      "text/plain": [
       "   Roll No.  Physics\n",
       "0         1       34\n",
       "1         2       45\n",
       "2         3       56\n",
       "3         4       76\n",
       "4         5       12"
      ]
     },
     "execution_count": 9,
     "metadata": {},
     "output_type": "execute_result"
    }
   ],
   "source": [
    "df1 = pd.DataFrame({'Roll No.':[1,2,3,4,5], 'Physics':[34,45,56,76,12]})\n",
    "df1"
   ]
  },
  {
   "cell_type": "code",
   "execution_count": 10,
   "metadata": {},
   "outputs": [
    {
     "data": {
      "text/html": [
       "<div>\n",
       "<style scoped>\n",
       "    .dataframe tbody tr th:only-of-type {\n",
       "        vertical-align: middle;\n",
       "    }\n",
       "\n",
       "    .dataframe tbody tr th {\n",
       "        vertical-align: top;\n",
       "    }\n",
       "\n",
       "    .dataframe thead th {\n",
       "        text-align: right;\n",
       "    }\n",
       "</style>\n",
       "<table border=\"1\" class=\"dataframe\">\n",
       "  <thead>\n",
       "    <tr style=\"text-align: right;\">\n",
       "      <th></th>\n",
       "      <th>Roll No.</th>\n",
       "      <th>Chemistry</th>\n",
       "    </tr>\n",
       "  </thead>\n",
       "  <tbody>\n",
       "    <tr>\n",
       "      <th>0</th>\n",
       "      <td>1</td>\n",
       "      <td>43</td>\n",
       "    </tr>\n",
       "    <tr>\n",
       "      <th>1</th>\n",
       "      <td>2</td>\n",
       "      <td>33</td>\n",
       "    </tr>\n",
       "    <tr>\n",
       "      <th>2</th>\n",
       "      <td>3</td>\n",
       "      <td>26</td>\n",
       "    </tr>\n",
       "    <tr>\n",
       "      <th>3</th>\n",
       "      <td>4</td>\n",
       "      <td>79</td>\n",
       "    </tr>\n",
       "    <tr>\n",
       "      <th>4</th>\n",
       "      <td>5</td>\n",
       "      <td>25</td>\n",
       "    </tr>\n",
       "  </tbody>\n",
       "</table>\n",
       "</div>"
      ],
      "text/plain": [
       "   Roll No.  Chemistry\n",
       "0         1         43\n",
       "1         2         33\n",
       "2         3         26\n",
       "3         4         79\n",
       "4         5         25"
      ]
     },
     "execution_count": 10,
     "metadata": {},
     "output_type": "execute_result"
    }
   ],
   "source": [
    "df2 = pd.DataFrame({'Roll No.':[1,2,3,4,5], 'Chemistry':[43,33,26,79,25]})\n",
    "df2"
   ]
  },
  {
   "cell_type": "code",
   "execution_count": 11,
   "metadata": {},
   "outputs": [
    {
     "data": {
      "text/html": [
       "<div>\n",
       "<style scoped>\n",
       "    .dataframe tbody tr th:only-of-type {\n",
       "        vertical-align: middle;\n",
       "    }\n",
       "\n",
       "    .dataframe tbody tr th {\n",
       "        vertical-align: top;\n",
       "    }\n",
       "\n",
       "    .dataframe thead th {\n",
       "        text-align: right;\n",
       "    }\n",
       "</style>\n",
       "<table border=\"1\" class=\"dataframe\">\n",
       "  <thead>\n",
       "    <tr style=\"text-align: right;\">\n",
       "      <th></th>\n",
       "      <th>Roll No.</th>\n",
       "      <th>Physics</th>\n",
       "      <th>Chemistry</th>\n",
       "    </tr>\n",
       "  </thead>\n",
       "  <tbody>\n",
       "    <tr>\n",
       "      <th>0</th>\n",
       "      <td>1</td>\n",
       "      <td>34</td>\n",
       "      <td>43</td>\n",
       "    </tr>\n",
       "    <tr>\n",
       "      <th>1</th>\n",
       "      <td>2</td>\n",
       "      <td>45</td>\n",
       "      <td>33</td>\n",
       "    </tr>\n",
       "    <tr>\n",
       "      <th>2</th>\n",
       "      <td>3</td>\n",
       "      <td>56</td>\n",
       "      <td>26</td>\n",
       "    </tr>\n",
       "    <tr>\n",
       "      <th>3</th>\n",
       "      <td>4</td>\n",
       "      <td>76</td>\n",
       "      <td>79</td>\n",
       "    </tr>\n",
       "    <tr>\n",
       "      <th>4</th>\n",
       "      <td>5</td>\n",
       "      <td>12</td>\n",
       "      <td>25</td>\n",
       "    </tr>\n",
       "  </tbody>\n",
       "</table>\n",
       "</div>"
      ],
      "text/plain": [
       "   Roll No.  Physics  Chemistry\n",
       "0         1       34         43\n",
       "1         2       45         33\n",
       "2         3       56         26\n",
       "3         4       76         79\n",
       "4         5       12         25"
      ]
     },
     "execution_count": 11,
     "metadata": {},
     "output_type": "execute_result"
    }
   ],
   "source": [
    "pd.merge(df1, df2, on='Roll No.')"
   ]
  },
  {
   "cell_type": "code",
   "execution_count": 12,
   "metadata": {},
   "outputs": [
    {
     "data": {
      "text/html": [
       "<div>\n",
       "<style scoped>\n",
       "    .dataframe tbody tr th:only-of-type {\n",
       "        vertical-align: middle;\n",
       "    }\n",
       "\n",
       "    .dataframe tbody tr th {\n",
       "        vertical-align: top;\n",
       "    }\n",
       "\n",
       "    .dataframe thead th {\n",
       "        text-align: right;\n",
       "    }\n",
       "</style>\n",
       "<table border=\"1\" class=\"dataframe\">\n",
       "  <thead>\n",
       "    <tr style=\"text-align: right;\">\n",
       "      <th></th>\n",
       "      <th>Roll No.</th>\n",
       "      <th>Physics</th>\n",
       "      <th>Chemistry</th>\n",
       "    </tr>\n",
       "  </thead>\n",
       "  <tbody>\n",
       "    <tr>\n",
       "      <th>0</th>\n",
       "      <td>1</td>\n",
       "      <td>34</td>\n",
       "      <td>43</td>\n",
       "    </tr>\n",
       "    <tr>\n",
       "      <th>1</th>\n",
       "      <td>2</td>\n",
       "      <td>45</td>\n",
       "      <td>33</td>\n",
       "    </tr>\n",
       "    <tr>\n",
       "      <th>2</th>\n",
       "      <td>3</td>\n",
       "      <td>56</td>\n",
       "      <td>26</td>\n",
       "    </tr>\n",
       "    <tr>\n",
       "      <th>3</th>\n",
       "      <td>4</td>\n",
       "      <td>76</td>\n",
       "      <td>79</td>\n",
       "    </tr>\n",
       "    <tr>\n",
       "      <th>4</th>\n",
       "      <td>5</td>\n",
       "      <td>12</td>\n",
       "      <td>25</td>\n",
       "    </tr>\n",
       "  </tbody>\n",
       "</table>\n",
       "</div>"
      ],
      "text/plain": [
       "   Roll No.  Physics  Chemistry\n",
       "0         1       34         43\n",
       "1         2       45         33\n",
       "2         3       56         26\n",
       "3         4       76         79\n",
       "4         5       12         25"
      ]
     },
     "execution_count": 12,
     "metadata": {},
     "output_type": "execute_result"
    }
   ],
   "source": [
    "pd.merge(df1, df2)          # on - by default intersecting column is taken"
   ]
  },
  {
   "cell_type": "code",
   "execution_count": null,
   "metadata": {},
   "outputs": [],
   "source": [
    "df3 = pd.DataFrame({'ROll No.':[1,2,3,6,7], 'Physics':[34,67,34,89,12]})\n",
    "df4 = pd.DataFrame({'ROll No.':[1,2,3,8,9], 'Chemistry':[34,67,34,89,12]})"
   ]
  }
 ],
 "metadata": {
  "kernelspec": {
   "display_name": "Python 3",
   "language": "python",
   "name": "python3"
  },
  "language_info": {
   "codemirror_mode": {
    "name": "ipython",
    "version": 3
   },
   "file_extension": ".py",
   "mimetype": "text/x-python",
   "name": "python",
   "nbconvert_exporter": "python",
   "pygments_lexer": "ipython3",
   "version": "3.11.0"
  },
  "orig_nbformat": 4
 },
 "nbformat": 4,
 "nbformat_minor": 2
}
