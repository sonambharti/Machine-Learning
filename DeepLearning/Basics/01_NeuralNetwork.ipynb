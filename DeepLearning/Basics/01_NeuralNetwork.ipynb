{
 "cells": [
  {
   "cell_type": "code",
   "execution_count": null,
   "id": "1272a958",
   "metadata": {
    "vscode": {
     "languageId": "plaintext"
    }
   },
   "outputs": [],
   "source": [
    "import tensorflow as tf\n",
    "from tensorflow.keras.models import Sequential\n",
    "from tensorflow.keras.layers import Dense\n"
   ]
  },
  {
   "cell_type": "markdown",
   "id": "04310655",
   "metadata": {},
   "source": [
    "##  Architecture:\n",
    "A 3-layer network (input: 2 features, hidden: 4 neurons, output: 1 neuron). <br>\n",
    "\n",
    "##  Activation Functions:\n",
    "\n",
    "**Hidden Layer**: ReLU (introduces non-linearity). <br>\n",
    "**Output Layer**: Sigmoid (squashes output to [0, 1] for probabilities). <br>"
   ]
  },
  {
   "cell_type": "code",
   "execution_count": null,
   "id": "5761ffc0",
   "metadata": {
    "vscode": {
     "languageId": "plaintext"
    }
   },
   "outputs": [],
   "source": [
    "\n",
    "# Create a neural network\n",
    "model = Sequential([\n",
    "    Dense(4, activation='relu', input_shape=(2,)),  # Hidden layer (4 neurons)\n",
    "    Dense(1, activation='sigmoid')                 # Output layer (binary classification)\n",
    "])\n"
   ]
  },
  {
   "cell_type": "markdown",
   "id": "dbd3f4a7",
   "metadata": {},
   "source": [
    "**Training**: Uses the **Adam optimizer** and **binary cross-entropy loss**."
   ]
  },
  {
   "cell_type": "code",
   "execution_count": null,
   "id": "8c6004e3",
   "metadata": {
    "vscode": {
     "languageId": "plaintext"
    }
   },
   "outputs": [],
   "source": [
    "\n",
    "# Compile the model\n",
    "model.compile(\n",
    "    optimizer='adam',\n",
    "    loss='binary_crossentropy',\n",
    "    metrics=['accuracy']\n",
    ")\n"
   ]
  },
  {
   "cell_type": "code",
   "execution_count": null,
   "id": "434aac88",
   "metadata": {
    "vscode": {
     "languageId": "plaintext"
    }
   },
   "outputs": [],
   "source": [
    "\n",
    "# Sample data (X: features, y: labels)\n",
    "import numpy as np\n",
    "X = np.array([[0, 0], [0, 1], [1, 0], [1, 1]])  # XOR input\n",
    "y = np.array([0, 1, 1, 0])                      # XOR output\n"
   ]
  },
  {
   "cell_type": "code",
   "execution_count": null,
   "id": "f2019727",
   "metadata": {
    "vscode": {
     "languageId": "plaintext"
    }
   },
   "outputs": [],
   "source": [
    "\n",
    "# Train the model\n",
    "model.fit(X, y, epochs=1000, verbose=0)\n"
   ]
  },
  {
   "cell_type": "markdown",
   "id": "2842abef",
   "metadata": {},
   "source": [
    "##  Getting prediction"
   ]
  },
  {
   "cell_type": "code",
   "execution_count": null,
   "id": "4ec7f4fe",
   "metadata": {
    "vscode": {
     "languageId": "plaintext"
    }
   },
   "outputs": [],
   "source": [
    "\n",
    "# Predict\n",
    "predictions = model.predict(X)\n",
    "print(predictions.round())"
   ]
  }
 ],
 "metadata": {
  "language_info": {
   "name": "python"
  }
 },
 "nbformat": 4,
 "nbformat_minor": 5
}
