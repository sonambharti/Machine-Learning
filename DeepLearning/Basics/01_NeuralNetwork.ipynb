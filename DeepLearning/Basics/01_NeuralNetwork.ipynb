{
  "cells": [
    {
      "cell_type": "code",
      "execution_count": 1,
      "id": "1272a958",
      "metadata": {
        "vscode": {
          "languageId": "plaintext"
        },
        "id": "1272a958"
      },
      "outputs": [],
      "source": [
        "import tensorflow as tf\n",
        "from tensorflow.keras.models import Sequential\n",
        "from tensorflow.keras.layers import Dense\n"
      ]
    },
    {
      "cell_type": "markdown",
      "id": "04310655",
      "metadata": {
        "id": "04310655"
      },
      "source": [
        "##  Architecture:\n",
        "A 3-layer network (input: 2 features, hidden: 4 neurons, output: 1 neuron). <br>\n",
        "\n",
        "##  Activation Functions:\n",
        "\n",
        "**Hidden Layer**: ReLU (introduces non-linearity). <br>\n",
        "**Output Layer**: Sigmoid (squashes output to [0, 1] for probabilities). <br>"
      ]
    },
    {
      "cell_type": "code",
      "execution_count": 2,
      "id": "5761ffc0",
      "metadata": {
        "vscode": {
          "languageId": "plaintext"
        },
        "colab": {
          "base_uri": "https://localhost:8080/"
        },
        "id": "5761ffc0",
        "outputId": "4402f9c7-5a82-43e2-e856-4a1474ffaf86"
      },
      "outputs": [
        {
          "output_type": "stream",
          "name": "stderr",
          "text": [
            "/usr/local/lib/python3.11/dist-packages/keras/src/layers/core/dense.py:87: UserWarning: Do not pass an `input_shape`/`input_dim` argument to a layer. When using Sequential models, prefer using an `Input(shape)` object as the first layer in the model instead.\n",
            "  super().__init__(activity_regularizer=activity_regularizer, **kwargs)\n"
          ]
        }
      ],
      "source": [
        "\n",
        "# Create a neural network\n",
        "model = Sequential([\n",
        "    Dense(4, activation='relu', input_shape=(2,)),  # Hidden layer (4 neurons)\n",
        "    Dense(1, activation='sigmoid')                 # Output layer (binary classification)\n",
        "])\n"
      ]
    },
    {
      "cell_type": "markdown",
      "id": "dbd3f4a7",
      "metadata": {
        "id": "dbd3f4a7"
      },
      "source": [
        "**Training**: Uses the **Adam optimizer** and **binary cross-entropy loss**."
      ]
    },
    {
      "cell_type": "code",
      "execution_count": 3,
      "id": "8c6004e3",
      "metadata": {
        "vscode": {
          "languageId": "plaintext"
        },
        "id": "8c6004e3"
      },
      "outputs": [],
      "source": [
        "\n",
        "# Compile the model\n",
        "model.compile(\n",
        "    optimizer='adam',\n",
        "    loss='binary_crossentropy',\n",
        "    metrics=['accuracy']\n",
        ")\n"
      ]
    },
    {
      "cell_type": "code",
      "execution_count": 4,
      "id": "434aac88",
      "metadata": {
        "vscode": {
          "languageId": "plaintext"
        },
        "id": "434aac88"
      },
      "outputs": [],
      "source": [
        "\n",
        "# Sample data (X: features, y: labels)\n",
        "import numpy as np\n",
        "X = np.array([[0, 0], [0, 1], [1, 0], [1, 1]])  # XOR input\n",
        "y = np.array([0, 1, 1, 0])                      # XOR output\n"
      ]
    },
    {
      "cell_type": "code",
      "execution_count": 5,
      "id": "f2019727",
      "metadata": {
        "vscode": {
          "languageId": "plaintext"
        },
        "colab": {
          "base_uri": "https://localhost:8080/"
        },
        "id": "f2019727",
        "outputId": "73cd1685-ac51-4e2d-e20d-dbf2ace3419d"
      },
      "outputs": [
        {
          "output_type": "execute_result",
          "data": {
            "text/plain": [
              "<keras.src.callbacks.history.History at 0x7eeadfc6f110>"
            ]
          },
          "metadata": {},
          "execution_count": 5
        }
      ],
      "source": [
        "\n",
        "# Train the model\n",
        "model.fit(X, y, epochs=1000, verbose=0)\n"
      ]
    },
    {
      "cell_type": "markdown",
      "id": "2842abef",
      "metadata": {
        "id": "2842abef"
      },
      "source": [
        "##  Getting prediction"
      ]
    },
    {
      "cell_type": "code",
      "execution_count": 6,
      "id": "4ec7f4fe",
      "metadata": {
        "vscode": {
          "languageId": "plaintext"
        },
        "colab": {
          "base_uri": "https://localhost:8080/"
        },
        "id": "4ec7f4fe",
        "outputId": "1034b0f7-7b0d-44e2-9e8d-2b1c5ff667ae"
      },
      "outputs": [
        {
          "output_type": "stream",
          "name": "stdout",
          "text": [
            "\u001b[1m1/1\u001b[0m \u001b[32m━━━━━━━━━━━━━━━━━━━━\u001b[0m\u001b[37m\u001b[0m \u001b[1m0s\u001b[0m 60ms/step\n",
            "[[0.]\n",
            " [0.]\n",
            " [1.]\n",
            " [0.]]\n"
          ]
        }
      ],
      "source": [
        "\n",
        "# Predict\n",
        "predictions = model.predict(X)\n",
        "print(predictions.round())"
      ]
    },
    {
      "cell_type": "code",
      "source": [],
      "metadata": {
        "id": "-gEwzk-Gj_Jt"
      },
      "id": "-gEwzk-Gj_Jt",
      "execution_count": null,
      "outputs": []
    }
  ],
  "metadata": {
    "language_info": {
      "name": "python"
    },
    "colab": {
      "provenance": []
    },
    "kernelspec": {
      "name": "python3",
      "display_name": "Python 3"
    }
  },
  "nbformat": 4,
  "nbformat_minor": 5
}